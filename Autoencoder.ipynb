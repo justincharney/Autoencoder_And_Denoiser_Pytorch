{
  "nbformat": 4,
  "nbformat_minor": 0,
  "metadata": {
    "colab": {
      "name": "Autoencoder",
      "provenance": [],
      "collapsed_sections": [
        "82otb0jGKV4M",
        "f0oU6elsMzN0"
      ],
      "authorship_tag": "ABX9TyP6odB3jp0/lSGdbBvfGbnV",
      "include_colab_link": true
    },
    "kernelspec": {
      "name": "python3",
      "display_name": "Python 3"
    },
    "accelerator": "GPU"
  },
  "cells": [
    {
      "cell_type": "markdown",
      "metadata": {
        "id": "view-in-github",
        "colab_type": "text"
      },
      "source": [
        "<a href=\"https://colab.research.google.com/github/justincharney/Autoencoder_And_Denoiser_Pytorch/blob/main/Autoencoder.ipynb\" target=\"_parent\"><img src=\"https://colab.research.google.com/assets/colab-badge.svg\" alt=\"Open In Colab\"/></a>"
      ]
    },
    {
      "cell_type": "markdown",
      "metadata": {
        "id": "5vaQOOmfB_Zy"
      },
      "source": [
        "### **Convolutional Autencoder and Denoising Autencoder**"
      ]
    },
    {
      "cell_type": "code",
      "metadata": {
        "id": "hvAEqlQpyIo_"
      },
      "source": [
        "import torch as torch\n",
        "import torch.nn as nn\n",
        "import torch.nn.functional as F\n",
        "import numpy as np\n",
        "from torchvision import datasets\n",
        "import torchvision.transforms as transforms\n"
      ],
      "execution_count": null,
      "outputs": []
    },
    {
      "cell_type": "markdown",
      "metadata": {
        "id": "ubCoMOn_B0H_"
      },
      "source": [
        "**Defining the architecture for the Denoiser**"
      ]
    },
    {
      "cell_type": "code",
      "metadata": {
        "id": "vFQY5BZF0nkB",
        "colab": {
          "base_uri": "https://localhost:8080/"
        },
        "outputId": "02049a46-e9ce-45b7-af49-16c726166574"
      },
      "source": [
        "class ConvAutoencoder(nn.Module):\n",
        "    def __init__(self):\n",
        "        super(ConvAutoencoder, self).__init__()\n",
        "        ## encoder layers ##\n",
        "        self.conv1 = nn.Conv2d(1, 32, kernel_size= 3, padding=1)  \n",
        "        self.conv2 = nn.Conv2d(32, 16, kernel_size= 3, padding=1)\n",
        "        self.conv3 = nn.Conv2d(16, 8, kernel_size=3, padding=1)\n",
        "        # pooling layer to reduce x-y dims by two; kernel and stride of 2\n",
        "        self.pool = nn.MaxPool2d(2, 2)\n",
        "        \n",
        "        ## decoder layers ##\n",
        "        ## a kernel of 2 and a stride of 2 will increase the spatial dims by 2\n",
        "        self.t_conv1 = nn.ConvTranspose2d(8, 8, kernel_size=3, stride=2)\n",
        "        self.t_conv2 = nn.ConvTranspose2d(8, 16, kernel_size=2, stride=2)\n",
        "        self.t_conv3 = nn.ConvTranspose2d(16, 32, kernel_size=2, stride = 2)\n",
        "        self.output = nn.Conv2d(32,1, kernel_size= 3, padding=1)\n",
        "\n",
        "\n",
        "    def forward(self, x):\n",
        "        ## encode ##\n",
        "        x = F.relu(self.conv1(x))\n",
        "        x = self.pool(x)\n",
        "        x = F.relu(self.conv2(x))\n",
        "        x = self.pool(x)\n",
        "        x = F.relu(self.conv3(x))\n",
        "        x = self.pool(x)\n",
        "        \n",
        "        ## decode ##\n",
        "        x = F.relu(self.t_conv1(x))\n",
        "        x = F.relu(self.t_conv2(x))\n",
        "        x = F.relu(self.t_conv3(x))\n",
        "        x = torch.sigmoid(self.output(x))\n",
        "                \n",
        "        return x\n",
        "\n",
        "# initialize the neural network\n",
        "model = ConvAutoencoder()\n",
        "print(model)"
      ],
      "execution_count": null,
      "outputs": [
        {
          "output_type": "stream",
          "text": [
            "ConvAutoencoder(\n",
            "  (conv1): Conv2d(1, 32, kernel_size=(3, 3), stride=(1, 1), padding=(1, 1))\n",
            "  (conv2): Conv2d(32, 16, kernel_size=(3, 3), stride=(1, 1), padding=(1, 1))\n",
            "  (conv3): Conv2d(16, 8, kernel_size=(3, 3), stride=(1, 1), padding=(1, 1))\n",
            "  (pool): MaxPool2d(kernel_size=2, stride=2, padding=0, dilation=1, ceil_mode=False)\n",
            "  (t_conv1): ConvTranspose2d(8, 8, kernel_size=(3, 3), stride=(2, 2))\n",
            "  (t_conv2): ConvTranspose2d(8, 16, kernel_size=(2, 2), stride=(2, 2))\n",
            "  (t_conv3): ConvTranspose2d(16, 32, kernel_size=(2, 2), stride=(2, 2))\n",
            "  (output): Conv2d(32, 1, kernel_size=(3, 3), stride=(1, 1), padding=(1, 1))\n",
            ")\n"
          ],
          "name": "stdout"
        }
      ]
    },
    {
      "cell_type": "code",
      "metadata": {
        "colab": {
          "base_uri": "https://localhost:8080/"
        },
        "id": "X2AhDZSoD1Ni",
        "outputId": "f52d7bf4-9f1a-4eb1-9826-e0562d09b9eb"
      },
      "source": [
        "class AutoEncoder(nn.Module):\n",
        "  def __init__(self):\n",
        "    super(AutoEncoder,self).__init__()\n",
        "    #Encoder\n",
        "    self.conv1 = nn.Conv2d(1,16, kernel_size=3, padding=1)\n",
        "    self.conv2 = nn.Conv2d(16,4, kernel_size=3,padding=1)\n",
        "    self.pool = nn.MaxPool2d(2,2)\n",
        "\n",
        "    #Decoder\n",
        "    self.t_conv1 = nn.ConvTranspose2d(4,16,kernel_size=2,stride=2)\n",
        "    self.t_conv2 = nn.ConvTranspose2d(16,1,kernel_size=2,stride=2)\n",
        "\n",
        "  def forward(self, x):\n",
        "    x = F.relu(self.conv1(x))\n",
        "    x = self.pool(x)\n",
        "    x = F.relu(self.conv2(x))\n",
        "    x = self.pool(x)\n",
        "    x = F.relu(self.t_conv1(x))\n",
        "    x = torch.sigmoid(self.t_conv2(x))\n",
        "    return x\n",
        "  \n",
        "model_2 = AutoEncoder()\n",
        "print(model_2)"
      ],
      "execution_count": null,
      "outputs": [
        {
          "output_type": "stream",
          "text": [
            "AutoEncoder(\n",
            "  (conv1): Conv2d(1, 16, kernel_size=(3, 3), stride=(1, 1), padding=(1, 1))\n",
            "  (conv2): Conv2d(16, 4, kernel_size=(3, 3), stride=(1, 1), padding=(1, 1))\n",
            "  (pool): MaxPool2d(kernel_size=2, stride=2, padding=0, dilation=1, ceil_mode=False)\n",
            "  (t_conv1): ConvTranspose2d(4, 16, kernel_size=(2, 2), stride=(2, 2))\n",
            "  (t_conv2): ConvTranspose2d(16, 1, kernel_size=(2, 2), stride=(2, 2))\n",
            ")\n"
          ],
          "name": "stdout"
        }
      ]
    },
    {
      "cell_type": "code",
      "metadata": {
        "id": "EKcqfqfs7J2w"
      },
      "source": [
        "#defining some parameters\n",
        "num_epochs = 20\n",
        "batch_size = 20\n",
        "\n",
        "criterion = nn.MSELoss()\n",
        "criterion2 = nn.MSELoss()\n",
        "optimizer = torch.optim.Adam(model.parameters(), lr= 0.001)\n",
        "optimizer2 = torch.optim.Adam(model_2.parameters(), lr = 0.001)"
      ],
      "execution_count": null,
      "outputs": []
    },
    {
      "cell_type": "code",
      "metadata": {
        "id": "TKqBpVie8Jx3"
      },
      "source": [
        "# getting and preparing data\n",
        "\n",
        "transform = transforms.ToTensor()\n",
        "\n",
        "train_data = datasets.MNIST(root = \"data\", train = True, download=True, \n",
        "                            transform=transform)\n",
        "test_data = datasets.MNIST(root='data', train=False,\n",
        "                                  download=True, transform=transform)\n",
        "num_workers = 0\n",
        "train_loader = torch.utils.data.DataLoader(train_data, batch_size=batch_size, num_workers=num_workers)\n",
        "test_loader = torch.utils.data.DataLoader(test_data, batch_size=batch_size, num_workers=num_workers)"
      ],
      "execution_count": null,
      "outputs": []
    },
    {
      "cell_type": "code",
      "metadata": {
        "colab": {
          "base_uri": "https://localhost:8080/",
          "height": 337
        },
        "id": "fJ74U8aP_TPf",
        "outputId": "de7e2cd4-616f-44b7-e2dc-196119fe9381"
      },
      "source": [
        "# visualizing the data\n",
        "\n",
        "import matplotlib.pyplot as plt\n",
        "import random\n",
        "\n",
        "#one batch of training data\n",
        "dataiter = iter(train_loader)\n",
        "images, labels = dataiter.next()\n",
        "images = images.numpy()\n",
        "\n",
        "#one image from the batch\n",
        "img = np.squeeze(images[random.randint(1,10)])\n",
        "fig = plt.figure(figsize = (5,5))\n",
        "ax = fig.add_subplot(111)\n",
        "ax.imshow(img, cmap = \"gray\")\n",
        "\n",
        "\n",
        "\n"
      ],
      "execution_count": null,
      "outputs": [
        {
          "output_type": "execute_result",
          "data": {
            "text/plain": [
              "<matplotlib.image.AxesImage at 0x7f752db6fb00>"
            ]
          },
          "metadata": {
            "tags": []
          },
          "execution_count": 6
        },
        {
          "output_type": "display_data",
          "data": {
            "image/png": "[encoded data removed]",
            "text/plain": [
              "<Figure size 360x360 with 1 Axes>"
            ]
          },
          "metadata": {
            "tags": [],
            "needs_background": "light"
          }
        }
      ]
    },
    {
      "cell_type": "markdown",
      "metadata": {
        "id": "82otb0jGKV4M"
      },
      "source": [
        "# **TRAINING THE DENOISER. DO NOT NEED TO DO THIS AGAIN, SIMPLY RUN CELLS UNTIL THIS POINT**"
      ]
    },
    {
      "cell_type": "code",
      "metadata": {
        "id": "EX8jR0ioA5Em"
      },
      "source": [
        "#Training denoising Autoencoder\n",
        "\n",
        "noise = 0.5\n",
        "\n",
        "for epoch in range(num_epochs):\n",
        "  train_loss = 0\n",
        "  loss_values = []\n",
        "  for data in train_loader:\n",
        "    image, _ = data\n",
        "    noisy_image = image + noise * torch.randn(*image.shape)\n",
        "    noisy_image = np.clip(noisy_image, 0., 1.)\n",
        "    \n",
        "\n",
        "    optimizer.zero_grad()\n",
        "    outputs = model(noisy_image)\n",
        "    loss = criterion(outputs, image)\n",
        "    loss.backward()\n",
        "    optimizer.step()\n",
        "    train_loss += loss.item() * image.size(0)\n",
        "\n",
        "  train_loss = train_loss/len(train_loader)\n",
        "  loss_values.append(train_loss)\n",
        "  print(\"Epoch {} \\t Training Loss {:.6f}\".format (epoch, train_loss))\n",
        "\n"
      ],
      "execution_count": null,
      "outputs": []
    },
    {
      "cell_type": "markdown",
      "metadata": {
        "id": "f0oU6elsMzN0"
      },
      "source": [
        "# **TRAINING THE AUTOENCODER. DO NOT NEED TO DO THIS AGAIN.**"
      ]
    },
    {
      "cell_type": "code",
      "metadata": {
        "colab": {
          "base_uri": "https://localhost:8080/"
        },
        "id": "G9ktDCbFAvx_",
        "outputId": "851d2403-c826-452a-fdb2-5d744dbc3c42"
      },
      "source": [
        "num_epochs = 20\n",
        "\n",
        "for epoch in range(num_epochs):\n",
        "  train_loss = 0\n",
        "  for data in train_loader:\n",
        "    images, _ = data\n",
        "\n",
        "    optimizer2.zero_grad()\n",
        "    outputs = model_2(images)\n",
        "    loss2 = criterion2(outputs, images)\n",
        "    loss2.backward()\n",
        "    optimizer2.step()\n",
        "    train_loss += loss2.item()*images.size(0)\n",
        "\n",
        "  train_loss = train_loss/len(train_loader)\n",
        "  print(\"Epoch {} \\t Training Loss {:.6f}\".format (epoch, train_loss))\n"
      ],
      "execution_count": null,
      "outputs": [
        {
          "output_type": "stream",
          "text": [
            "Epoch 0 \t Training Loss 0.514328\n",
            "Epoch 1 \t Training Loss 0.274733\n",
            "Epoch 2 \t Training Loss 0.260350\n",
            "Epoch 3 \t Training Loss 0.251932\n",
            "Epoch 4 \t Training Loss 0.246260\n",
            "Epoch 5 \t Training Loss 0.242224\n",
            "Epoch 6 \t Training Loss 0.238925\n",
            "Epoch 7 \t Training Loss 0.236047\n",
            "Epoch 8 \t Training Loss 0.232862\n",
            "Epoch 9 \t Training Loss 0.228232\n",
            "Epoch 10 \t Training Loss 0.224865\n",
            "Epoch 11 \t Training Loss 0.222225\n",
            "Epoch 12 \t Training Loss 0.219842\n",
            "Epoch 13 \t Training Loss 0.217520\n",
            "Epoch 14 \t Training Loss 0.215346\n",
            "Epoch 15 \t Training Loss 0.212971\n",
            "Epoch 16 \t Training Loss 0.210653\n",
            "Epoch 17 \t Training Loss 0.208783\n",
            "Epoch 18 \t Training Loss 0.207175\n",
            "Epoch 19 \t Training Loss 0.205798\n"
          ],
          "name": "stdout"
        }
      ]
    },
    {
      "cell_type": "markdown",
      "metadata": {
        "id": "oGD6OuFLC6kN"
      },
      "source": [
        "**Code to save and Load Autoencoder**"
      ]
    },
    {
      "cell_type": "code",
      "metadata": {
        "id": "_PSH87ene6yd"
      },
      "source": [
        "#torch.save(model_2.state_dict(), \"Autoencoder\")\n",
        "\n",
        "# model_2.load_state_dict(torch.load(\"Autoencoder\"))"
      ],
      "execution_count": null,
      "outputs": []
    },
    {
      "cell_type": "markdown",
      "metadata": {
        "id": "h-XShYOBDGb4"
      },
      "source": [
        "**Code to save and load denoiser**"
      ]
    },
    {
      "cell_type": "code",
      "metadata": {
        "id": "opvrwKyemz7N"
      },
      "source": [
        "#torch.save(model.state_dict(),\"Autoencoder-Denoiser\")\n",
        "\n",
        "# model.load_state_dict(torch.load(\"Autoencoder-Denoiser\"))"
      ],
      "execution_count": null,
      "outputs": []
    },
    {
      "cell_type": "markdown",
      "metadata": {
        "id": "YpjmBXFySaO8"
      },
      "source": [
        "# **Implemenatation and testing**"
      ]
    },
    {
      "cell_type": "markdown",
      "metadata": {
        "id": "MochWmh6DMl4"
      },
      "source": [
        "**Testing the autoencoder**"
      ]
    },
    {
      "cell_type": "code",
      "metadata": {
        "colab": {
          "base_uri": "https://localhost:8080/",
          "height": 137
        },
        "id": "CE3Y0yJ8gW9j",
        "outputId": "ba2116b5-b173-4c6b-c7a4-99dadcee62e7"
      },
      "source": [
        "#For regular Autencoder\n",
        "dataiter = iter(test_loader)\n",
        "images, labels = dataiter.next()\n",
        "model_2 = AutoEncoder()\n",
        "model_2.load_state_dict(torch.load(\"Autoencoder\"))\n",
        "\n",
        "output = model_2(images)\n",
        "images = images.numpy()\n",
        "output = output.view(batch_size,1,28,28)\n",
        "output = output.detach().numpy()\n",
        "\n",
        "fig, axes = plt.subplots(nrows=2, ncols=10, sharex=True, sharey=True, figsize=(25,4))\n",
        "\n",
        "# Original images on top, reconstructed images on the bottom\n",
        "for images, row in zip([images, output], axes):\n",
        "  for img, ax in zip(images, row):\n",
        "    ax.imshow(np.squeeze(img), cmap=\"gray\")\n",
        "    ax.get_xaxis().set_visible(False)\n",
        "    ax.get_yaxis().set_visible(False)"
      ],
      "execution_count": null,
      "outputs": [
        {
          "output_type": "display_data",
          "data": {
            "image/png": "[encoded data removed]",
            "text/plain": [
              "<Figure size 1800x288 with 20 Axes>"
            ]
          },
          "metadata": {
            "tags": [],
            "needs_background": "light"
          }
        }
      ]
    },
    {
      "cell_type": "markdown",
      "metadata": {
        "id": "e0q86RnMDS43"
      },
      "source": [
        "**Testing the denoiser**"
      ]
    },
    {
      "cell_type": "code",
      "metadata": {
        "colab": {
          "base_uri": "https://localhost:8080/",
          "height": 137
        },
        "id": "TatXMlUIndPJ",
        "outputId": "bb9daba7-f8a9-424d-93f6-5d6e799e750d"
      },
      "source": [
        "dataiter = iter(test_loader)\n",
        "images, labels = dataiter.next()\n",
        "\n",
        "noise = 0.5\n",
        "\n",
        "noisy_image = images + noise *torch.randn(images.shape)\n",
        "noisy_image = np.clip(noisy_image, 0., 1.)\n",
        "\n",
        "model = ConvAutoencoder()\n",
        "model.load_state_dict(torch.load(\"Autoencoder-Denoiser\"))\n",
        "\n",
        "output = model(noisy_image)\n",
        "noisy_image = noisy_image.numpy()\n",
        "\n",
        "output = output.view(batch_size,1,28,28)\n",
        "output = output.detach().numpy()\n",
        "\n",
        "fig,axes = plt.subplots(nrows=2,ncols=10,sharex=True, sharey=True, figsize=(25,4))\n",
        "\n",
        "for noisy_image, row in zip([noisy_image,output], axes):\n",
        "  for image, ax in zip(noisy_image,row):\n",
        "    ax.imshow(np.squeeze(image), cmap = \"gray\")\n",
        "    ax.get_xaxis().set_visible(False)\n",
        "    ax.get_yaxis().set_visible(False)"
      ],
      "execution_count": null,
      "outputs": [
        {
          "output_type": "display_data",
          "data": {
            "image/png": "[encoded data removed]",
            "text/plain": [
              "<Figure size 1800x288 with 20 Axes>"
            ]
          },
          "metadata": {
            "tags": [],
            "needs_background": "light"
          }
        }
      ]
    }
  ]
}